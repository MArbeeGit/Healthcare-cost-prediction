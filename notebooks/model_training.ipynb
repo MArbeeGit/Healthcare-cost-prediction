{
 "cells": [
  {
   "cell_type": "code",
   "execution_count": 1,
   "metadata": {},
   "outputs": [],
   "source": [
    "import pandas as pd\n",
    "from sklearn.model_selection import train_test_split\n",
    "from sklearn.ensemble import RandomForestRegressor\n",
    "from sklearn.preprocessing import StandardScaler\n",
    "import pickle\n",
    "import os"
   ]
  },
  {
   "cell_type": "code",
   "execution_count": 2,
   "metadata": {},
   "outputs": [
    {
     "name": "stdout",
     "output_type": "stream",
     "text": [
      "Current Working Directory: c:\\eSupport\\Jupyter\\healthcare-cost-prediction\\notebooks\n",
      "Dataset loaded successfully.\n"
     ]
    }
   ],
   "source": [
    "# Debugging: Check the current working directory\n",
    "print(\"Current Working Directory:\", os.getcwd())\n",
    "\n",
    "# Step 1: Load the dataset\n",
    "file_path = '../data/insurance.csv'\n",
    "\n",
    "# Debugging: Check if the file exists\n",
    "if not os.path.exists(file_path):\n",
    "    raise FileNotFoundError(f\"The file {file_path} does not exist. Please check the path.\")\n",
    "\n",
    "data = pd.read_csv(file_path)\n",
    "print(\"Dataset loaded successfully.\")\n"
   ]
  },
  {
   "cell_type": "code",
   "execution_count": 3,
   "metadata": {},
   "outputs": [
    {
     "name": "stdout",
     "output_type": "stream",
     "text": [
      "Categorical variables encoded successfully.\n",
      "Numerical features scaled successfully.\n"
     ]
    }
   ],
   "source": [
    "# Step 2: Preprocess the data\n",
    "# One-hot encode categorical variables\n",
    "data = pd.get_dummies(data, drop_first=True)\n",
    "print(\"Categorical variables encoded successfully.\")\n",
    "\n",
    "# Scale numerical features\n",
    "scaler = StandardScaler()\n",
    "data[['age', 'bmi']] = scaler.fit_transform(data[['age', 'bmi']])\n",
    "print(\"Numerical features scaled successfully.\")"
   ]
  },
  {
   "cell_type": "code",
   "execution_count": 4,
   "metadata": {},
   "outputs": [
    {
     "name": "stdout",
     "output_type": "stream",
     "text": [
      "Data split into training and testing sets successfully.\n"
     ]
    }
   ],
   "source": [
    "# Step 3: Split the data\n",
    "X = data.drop('charges', axis=1)\n",
    "y = data['charges']\n",
    "X_train, X_test, y_train, y_test = train_test_split(X, y, test_size=0.2, random_state=42)\n",
    "print(\"Data split into training and testing sets successfully.\")"
   ]
  },
  {
   "cell_type": "code",
   "execution_count": 5,
   "metadata": {},
   "outputs": [
    {
     "name": "stdout",
     "output_type": "stream",
     "text": [
      "Model trained successfully.\n"
     ]
    }
   ],
   "source": [
    "# Step 4: Train the model\n",
    "rf = RandomForestRegressor(random_state=42)\n",
    "rf.fit(X_train, y_train)\n",
    "print(\"Model trained successfully.\")"
   ]
  },
  {
   "cell_type": "code",
   "execution_count": 6,
   "metadata": {},
   "outputs": [
    {
     "name": "stdout",
     "output_type": "stream",
     "text": [
      "Model saved to ../model.pkl.\n"
     ]
    }
   ],
   "source": [
    "# Step 5: Save the trained model\n",
    "model_path = '../model.pkl'\n",
    "with open(model_path, 'wb') as f:\n",
    "    pickle.dump(rf, f)\n",
    "print(f\"Model saved to {model_path}.\")"
   ]
  },
  {
   "cell_type": "code",
   "execution_count": 7,
   "metadata": {},
   "outputs": [
    {
     "name": "stdout",
     "output_type": "stream",
     "text": [
      "Feature names saved to ../feature_names.txt.\n"
     ]
    }
   ],
   "source": [
    "# Step 6: Save the feature names used during training\n",
    "feature_names_path = '../feature_names.txt'\n",
    "with open(feature_names_path, 'w') as f:\n",
    "    f.write(','.join(X_train.columns))\n",
    "print(f\"Feature names saved to {feature_names_path}.\")"
   ]
  }
 ],
 "metadata": {
  "kernelspec": {
   "display_name": "Python 3",
   "language": "python",
   "name": "python3"
  },
  "language_info": {
   "codemirror_mode": {
    "name": "ipython",
    "version": 3
   },
   "file_extension": ".py",
   "mimetype": "text/x-python",
   "name": "python",
   "nbconvert_exporter": "python",
   "pygments_lexer": "ipython3",
   "version": "3.13.1"
  }
 },
 "nbformat": 4,
 "nbformat_minor": 2
}
